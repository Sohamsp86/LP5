{
 "cells": [
  {
   "cell_type": "code",
   "execution_count": null,
   "id": "50f2bf9c-e818-4eed-aaa5-13c64089f04d",
   "metadata": {},
   "outputs": [
    {
     "name": "stderr",
     "output_type": "stream",
     "text": [
      "2025-01-27 12:27:30.968210: I tensorflow/core/util/port.cc:110] oneDNN custom operations are on. You may see slightly different numerical results due to floating-point round-off errors from different computation orders. To turn them off, set the environment variable `TF_ENABLE_ONEDNN_OPTS=0`.\n",
      "2025-01-27 12:27:30.969314: I tensorflow/tsl/cuda/cudart_stub.cc:28] Could not find cuda drivers on your machine, GPU will not be used.\n",
      "2025-01-27 12:27:30.992667: I tensorflow/tsl/cuda/cudart_stub.cc:28] Could not find cuda drivers on your machine, GPU will not be used.\n",
      "2025-01-27 12:27:30.993740: I tensorflow/core/platform/cpu_feature_guard.cc:182] This TensorFlow binary is optimized to use available CPU instructions in performance-critical operations.\n",
      "To enable the following instructions: AVX2 AVX_VNNI FMA, in other operations, rebuild TensorFlow with the appropriate compiler flags.\n",
      "2025-01-27 12:27:31.377927: W tensorflow/compiler/tf2tensorrt/utils/py_utils.cc:38] TF-TRT Warning: Could not find TensorRT\n"
     ]
    }
   ],
   "source": [
    "from keras.datasets import imdb\n",
    "(train_data, train_labels), (test_data, test_labels) = imdb.load_data(num_words = 10000)"
   ]
  },
  {
   "cell_type": "code",
   "execution_count": 2,
   "id": "4008b9f9-cf07-4c4b-97a2-9e6f0484d786",
   "metadata": {},
   "outputs": [
    {
     "name": "stdout",
     "output_type": "stream",
     "text": [
      "<class 'list'>\n"
     ]
    },
    {
     "data": {
      "text/plain": [
       "9999"
      ]
     },
     "execution_count": 2,
     "metadata": {},
     "output_type": "execute_result"
    }
   ],
   "source": [
    "print(type([max(sequence) for sequence in train_data]))\n",
    "max([max(sequence) for sequence in train_data])"
   ]
  },
  {
   "cell_type": "code",
   "execution_count": 3,
   "id": "e66227d8-9416-41a5-9568-09e3f3a741c0",
   "metadata": {},
   "outputs": [
    {
     "data": {
      "text/plain": [
       "\"? this film was just brilliant casting location scenery story direction everyone's really suited the part they played and you could just imagine being there robert ? is an amazing actor and now the same being director ? father came from the same scottish island as myself so i loved the fact there was a real connection with this film the witty remarks throughout the film were great it was just brilliant so much that i bought the film as soon as it was released for ? and would recommend it to everyone to watch and the fly fishing was amazing really cried at the end it was so sad and you know what they say if you cry at a film it must have been good and this definitely was also ? to the two little boy's that played the ? of norman and paul they were just brilliant children are often left out of the ? list i think because the stars that play them all grown up are such a big profile for the whole film but these children are amazing and should be praised for what they have done don't you think the whole story was so lovely because it was true and was someone's life after all that was shared with us all\""
      ]
     },
     "execution_count": 3,
     "metadata": {},
     "output_type": "execute_result"
    }
   ],
   "source": [
    "# Decoding a review\n",
    "\n",
    "# step 1: load the dictionary mappings from word to integer index\n",
    "word_index = imdb.get_word_index()\n",
    "\n",
    "# step 2: reverse word index to map integer indexes to their respective words\n",
    "reverse_word_index = dict([(value, key) for (key, value) in word_index.items()])\n",
    "\n",
    "# Step 3: decode the review, mapping integer indices to words\n",
    "# indices are off by 3 because 0, 1, and 2 are reserverd indices for \"padding\", \"Start of sequence\" and \"unknown\"\n",
    "decoded_review = ' '.join([reverse_word_index.get(i-3, '?') for i in train_data[0]])\n",
    "decoded_review"
   ]
  },
  {
   "cell_type": "code",
   "execution_count": 4,
   "id": "8c909383-f23f-444b-a5f5-779f222e4ab1",
   "metadata": {},
   "outputs": [],
   "source": [
    "import numpy as np\n",
    "\n",
    "def vectorize_sequences(sequences, dimension=10000):\n",
    "    results = np.zeros((len(sequences), dimension))    # Creates an all zero matrix of shape (len(sequences),10K)\n",
    "    for i,sequence in enumerate(sequences):\n",
    "        results[i,sequence] = 1                        # Sets specific indices of results[i] to 1s\n",
    "    return results\n",
    "\n",
    "# Vectorize training Data\n",
    "X_train = vectorize_sequences(train_data)\n",
    "\n",
    "# Vectorize testing Data\n",
    "X_test = vectorize_sequences(test_data)"
   ]
  },
  {
   "cell_type": "code",
   "execution_count": 5,
   "id": "28044801-4999-4ee4-a8be-cba92f96b647",
   "metadata": {},
   "outputs": [
    {
     "data": {
      "text/plain": [
       "array([0., 1., 1., ..., 0., 0., 0.])"
      ]
     },
     "execution_count": 5,
     "metadata": {},
     "output_type": "execute_result"
    }
   ],
   "source": [
    "X_train[0]"
   ]
  },
  {
   "cell_type": "code",
   "execution_count": 6,
   "id": "5653ca6c-9904-44ed-8259-b7265d2aa7dd",
   "metadata": {},
   "outputs": [
    {
     "data": {
      "text/plain": [
       "(25000, 10000)"
      ]
     },
     "execution_count": 6,
     "metadata": {},
     "output_type": "execute_result"
    }
   ],
   "source": [
    "X_train.shape"
   ]
  },
  {
   "cell_type": "code",
   "execution_count": 7,
   "id": "6d4970cd-9270-46d5-8e1b-215ff7c38c1d",
   "metadata": {},
   "outputs": [],
   "source": [
    "y_train = np.asarray(train_labels).astype('float32')\n",
    "y_test  = np.asarray(test_labels).astype('float32')"
   ]
  },
  {
   "cell_type": "code",
   "execution_count": 8,
   "id": "40576a01-4ea4-4705-995d-59c7cfefc86e",
   "metadata": {},
   "outputs": [
    {
     "name": "stderr",
     "output_type": "stream",
     "text": [
      "2025-01-27 12:32:58.033315: I tensorflow/compiler/xla/stream_executor/cuda/cuda_gpu_executor.cc:995] successful NUMA node read from SysFS had negative value (-1), but there must be at least one NUMA node, so returning NUMA node zero. See more at https://github.com/torvalds/linux/blob/v6.0/Documentation/ABI/testing/sysfs-bus-pci#L344-L355\n",
      "2025-01-27 12:32:58.034649: W tensorflow/core/common_runtime/gpu/gpu_device.cc:1960] Cannot dlopen some GPU libraries. Please make sure the missing libraries mentioned above are installed properly if you would like to use GPU. Follow the guide at https://www.tensorflow.org/install/gpu for how to download and setup the required libraries for your platform.\n",
      "Skipping registering GPU devices...\n"
     ]
    }
   ],
   "source": [
    "from keras import models\n",
    "from keras import layers\n",
    "\n",
    "model = models.Sequential()\n",
    "model.add(layers.Dense(16, activation='relu', input_shape=(10000,)))\n",
    "model.add(layers.Dense(16, activation='relu'))\n",
    "model.add(layers.Dense(8, activation='relu'))\n",
    "model.add(layers.Dense(4, activation='relu'))\n",
    "model.add(layers.Dense(1, activation='sigmoid'))"
   ]
  },
  {
   "cell_type": "code",
   "execution_count": 10,
   "id": "dc0fd3bc-2cd6-4214-a5fb-e56757e0b012",
   "metadata": {},
   "outputs": [],
   "source": [
    "from keras import optimizers\n",
    "from keras import losses\n",
    "from keras import metrics\n",
    "\n",
    "model.compile(optimizer=optimizers.RMSprop(learning_rate=0.001), loss = losses.binary_crossentropy, metrics = [metrics.binary_accuracy])"
   ]
  },
  {
   "cell_type": "code",
   "execution_count": 11,
   "id": "89900da5-757f-42e1-90fb-c545f7b9b13e",
   "metadata": {},
   "outputs": [],
   "source": [
    "# Input for Validation\n",
    "X_val = X_train[:10000]\n",
    "partial_X_train = X_train[10000:]\n",
    "\n",
    "# Labels for validation\n",
    "y_val = y_train[:10000]\n",
    "partial_y_train = y_train[10000:]"
   ]
  },
  {
   "cell_type": "code",
   "execution_count": 12,
   "id": "00ba54fd-8fd7-4cff-94fe-bca28e05183d",
   "metadata": {},
   "outputs": [
    {
     "name": "stdout",
     "output_type": "stream",
     "text": [
      "Epoch 1/100\n",
      "30/30 [==============================] - 1s 31ms/step - loss: 0.6123 - binary_accuracy: 0.6955 - val_loss: 0.5435 - val_binary_accuracy: 0.7604\n",
      "Epoch 2/100\n",
      "30/30 [==============================] - 0s 11ms/step - loss: 0.4675 - binary_accuracy: 0.8526 - val_loss: 0.4262 - val_binary_accuracy: 0.8761\n",
      "Epoch 3/100\n",
      "30/30 [==============================] - 0s 10ms/step - loss: 0.3465 - binary_accuracy: 0.9022 - val_loss: 0.3441 - val_binary_accuracy: 0.8797\n",
      "Epoch 4/100\n",
      "30/30 [==============================] - 0s 10ms/step - loss: 0.2641 - binary_accuracy: 0.9219 - val_loss: 0.3062 - val_binary_accuracy: 0.8845\n",
      "Epoch 5/100\n",
      "30/30 [==============================] - 0s 10ms/step - loss: 0.2118 - binary_accuracy: 0.9357 - val_loss: 0.2931 - val_binary_accuracy: 0.8837\n",
      "Epoch 6/100\n",
      "30/30 [==============================] - 0s 10ms/step - loss: 0.1802 - binary_accuracy: 0.9423 - val_loss: 0.2843 - val_binary_accuracy: 0.8877\n",
      "Epoch 7/100\n",
      "30/30 [==============================] - 0s 10ms/step - loss: 0.1523 - binary_accuracy: 0.9532 - val_loss: 0.2884 - val_binary_accuracy: 0.8848\n",
      "Epoch 8/100\n",
      "30/30 [==============================] - 0s 11ms/step - loss: 0.1328 - binary_accuracy: 0.9601 - val_loss: 0.2987 - val_binary_accuracy: 0.8821\n",
      "Epoch 9/100\n",
      "30/30 [==============================] - 0s 11ms/step - loss: 0.1166 - binary_accuracy: 0.9662 - val_loss: 0.3358 - val_binary_accuracy: 0.8766\n",
      "Epoch 10/100\n",
      "30/30 [==============================] - 0s 10ms/step - loss: 0.0973 - binary_accuracy: 0.9747 - val_loss: 0.3619 - val_binary_accuracy: 0.8716\n",
      "Epoch 11/100\n",
      "30/30 [==============================] - 0s 10ms/step - loss: 0.0857 - binary_accuracy: 0.9781 - val_loss: 0.3454 - val_binary_accuracy: 0.8808\n",
      "Epoch 12/100\n",
      "30/30 [==============================] - 0s 10ms/step - loss: 0.0771 - binary_accuracy: 0.9802 - val_loss: 0.3655 - val_binary_accuracy: 0.8780\n",
      "Epoch 13/100\n",
      "30/30 [==============================] - 0s 10ms/step - loss: 0.0670 - binary_accuracy: 0.9846 - val_loss: 0.4175 - val_binary_accuracy: 0.8668\n",
      "Epoch 14/100\n",
      "30/30 [==============================] - 0s 10ms/step - loss: 0.0584 - binary_accuracy: 0.9866 - val_loss: 0.4041 - val_binary_accuracy: 0.8751\n",
      "Epoch 15/100\n",
      "30/30 [==============================] - 0s 10ms/step - loss: 0.0508 - binary_accuracy: 0.9894 - val_loss: 0.4279 - val_binary_accuracy: 0.8739\n",
      "Epoch 16/100\n",
      "30/30 [==============================] - 0s 10ms/step - loss: 0.0445 - binary_accuracy: 0.9910 - val_loss: 0.6209 - val_binary_accuracy: 0.8488\n",
      "Epoch 17/100\n",
      "30/30 [==============================] - 0s 10ms/step - loss: 0.0393 - binary_accuracy: 0.9923 - val_loss: 0.5150 - val_binary_accuracy: 0.8620\n",
      "Epoch 18/100\n",
      "30/30 [==============================] - 0s 10ms/step - loss: 0.0377 - binary_accuracy: 0.9930 - val_loss: 0.4986 - val_binary_accuracy: 0.8709\n",
      "Epoch 19/100\n",
      "30/30 [==============================] - 0s 10ms/step - loss: 0.0334 - binary_accuracy: 0.9934 - val_loss: 0.5309 - val_binary_accuracy: 0.8685\n",
      "Epoch 20/100\n",
      "30/30 [==============================] - 0s 12ms/step - loss: 0.0280 - binary_accuracy: 0.9953 - val_loss: 0.5489 - val_binary_accuracy: 0.8694\n",
      "Epoch 21/100\n",
      "30/30 [==============================] - 0s 11ms/step - loss: 0.0268 - binary_accuracy: 0.9949 - val_loss: 0.5637 - val_binary_accuracy: 0.8689\n",
      "Epoch 22/100\n",
      "30/30 [==============================] - 0s 11ms/step - loss: 0.0190 - binary_accuracy: 0.9977 - val_loss: 0.5844 - val_binary_accuracy: 0.8685\n",
      "Epoch 23/100\n",
      "30/30 [==============================] - 0s 10ms/step - loss: 0.0237 - binary_accuracy: 0.9950 - val_loss: 0.6005 - val_binary_accuracy: 0.8680\n",
      "Epoch 24/100\n",
      "30/30 [==============================] - 0s 10ms/step - loss: 0.0247 - binary_accuracy: 0.9937 - val_loss: 0.6236 - val_binary_accuracy: 0.8671\n",
      "Epoch 25/100\n",
      "30/30 [==============================] - 0s 10ms/step - loss: 0.0132 - binary_accuracy: 0.9982 - val_loss: 0.6663 - val_binary_accuracy: 0.8641\n",
      "Epoch 26/100\n",
      "30/30 [==============================] - 0s 10ms/step - loss: 0.0217 - binary_accuracy: 0.9943 - val_loss: 0.6721 - val_binary_accuracy: 0.8666\n",
      "Epoch 27/100\n",
      "30/30 [==============================] - 0s 10ms/step - loss: 0.0111 - binary_accuracy: 0.9983 - val_loss: 0.6925 - val_binary_accuracy: 0.8661\n",
      "Epoch 28/100\n",
      "30/30 [==============================] - 0s 10ms/step - loss: 0.0218 - binary_accuracy: 0.9941 - val_loss: 0.7063 - val_binary_accuracy: 0.8666\n",
      "Epoch 29/100\n",
      "30/30 [==============================] - 0s 10ms/step - loss: 0.0091 - binary_accuracy: 0.9986 - val_loss: 0.7205 - val_binary_accuracy: 0.8661\n",
      "Epoch 30/100\n",
      "30/30 [==============================] - 0s 10ms/step - loss: 0.0175 - binary_accuracy: 0.9953 - val_loss: 0.8028 - val_binary_accuracy: 0.8541\n",
      "Epoch 31/100\n",
      "30/30 [==============================] - 0s 10ms/step - loss: 0.0093 - binary_accuracy: 0.9983 - val_loss: 0.7589 - val_binary_accuracy: 0.8668\n",
      "Epoch 32/100\n",
      "30/30 [==============================] - 0s 10ms/step - loss: 0.0073 - binary_accuracy: 0.9987 - val_loss: 0.8956 - val_binary_accuracy: 0.8554\n",
      "Epoch 33/100\n",
      "30/30 [==============================] - 0s 10ms/step - loss: 0.0160 - binary_accuracy: 0.9948 - val_loss: 0.7833 - val_binary_accuracy: 0.8663\n",
      "Epoch 34/100\n",
      "30/30 [==============================] - 0s 10ms/step - loss: 0.0060 - binary_accuracy: 0.9988 - val_loss: 0.8161 - val_binary_accuracy: 0.8641\n",
      "Epoch 35/100\n",
      "30/30 [==============================] - 0s 10ms/step - loss: 0.0141 - binary_accuracy: 0.9954 - val_loss: 0.8250 - val_binary_accuracy: 0.8662\n",
      "Epoch 36/100\n",
      "30/30 [==============================] - 0s 10ms/step - loss: 0.0047 - binary_accuracy: 0.9989 - val_loss: 0.8388 - val_binary_accuracy: 0.8662\n",
      "Epoch 37/100\n",
      "30/30 [==============================] - 0s 10ms/step - loss: 0.0080 - binary_accuracy: 0.9975 - val_loss: 1.4202 - val_binary_accuracy: 0.8266\n",
      "Epoch 38/100\n",
      "30/30 [==============================] - 0s 10ms/step - loss: 0.0111 - binary_accuracy: 0.9970 - val_loss: 0.8701 - val_binary_accuracy: 0.8663\n",
      "Epoch 39/100\n",
      "30/30 [==============================] - 0s 10ms/step - loss: 0.0033 - binary_accuracy: 0.9990 - val_loss: 0.8903 - val_binary_accuracy: 0.8661\n",
      "Epoch 40/100\n",
      "30/30 [==============================] - 0s 10ms/step - loss: 0.0089 - binary_accuracy: 0.9968 - val_loss: 1.4077 - val_binary_accuracy: 0.8341\n",
      "Epoch 41/100\n",
      "30/30 [==============================] - 0s 10ms/step - loss: 0.0067 - binary_accuracy: 0.9979 - val_loss: 0.9288 - val_binary_accuracy: 0.8648\n",
      "Epoch 42/100\n",
      "30/30 [==============================] - 0s 10ms/step - loss: 0.0024 - binary_accuracy: 0.9990 - val_loss: 0.9512 - val_binary_accuracy: 0.8642\n",
      "Epoch 43/100\n",
      "30/30 [==============================] - 0s 10ms/step - loss: 0.0058 - binary_accuracy: 0.9978 - val_loss: 0.9548 - val_binary_accuracy: 0.8662\n",
      "Epoch 44/100\n",
      "30/30 [==============================] - 0s 10ms/step - loss: 0.0019 - binary_accuracy: 0.9991 - val_loss: 0.9853 - val_binary_accuracy: 0.8655\n",
      "Epoch 45/100\n",
      "30/30 [==============================] - 0s 10ms/step - loss: 0.0016 - binary_accuracy: 0.9991 - val_loss: 1.0136 - val_binary_accuracy: 0.8652\n",
      "Epoch 46/100\n",
      "30/30 [==============================] - 0s 10ms/step - loss: 0.0015 - binary_accuracy: 0.9991 - val_loss: 1.5043 - val_binary_accuracy: 0.8394\n",
      "Epoch 47/100\n",
      "30/30 [==============================] - 0s 10ms/step - loss: 0.0091 - binary_accuracy: 0.9966 - val_loss: 1.0858 - val_binary_accuracy: 0.8648\n",
      "Epoch 48/100\n",
      "30/30 [==============================] - 0s 10ms/step - loss: 0.0012 - binary_accuracy: 0.9991 - val_loss: 1.0991 - val_binary_accuracy: 0.8656\n",
      "Epoch 49/100\n",
      "30/30 [==============================] - 0s 10ms/step - loss: 0.0012 - binary_accuracy: 0.9991 - val_loss: 1.1307 - val_binary_accuracy: 0.8659\n",
      "Epoch 50/100\n",
      "30/30 [==============================] - 0s 10ms/step - loss: 0.0011 - binary_accuracy: 0.9991 - val_loss: 1.1862 - val_binary_accuracy: 0.8660\n",
      "Epoch 51/100\n",
      "30/30 [==============================] - 0s 10ms/step - loss: 9.6761e-04 - binary_accuracy: 0.9991 - val_loss: 1.2519 - val_binary_accuracy: 0.8656\n",
      "Epoch 52/100\n",
      "30/30 [==============================] - 0s 10ms/step - loss: 8.8683e-04 - binary_accuracy: 0.9991 - val_loss: 1.3088 - val_binary_accuracy: 0.8667\n",
      "Epoch 53/100\n",
      "30/30 [==============================] - 0s 10ms/step - loss: 8.3497e-04 - binary_accuracy: 0.9991 - val_loss: 1.3522 - val_binary_accuracy: 0.8665\n",
      "Epoch 54/100\n",
      "30/30 [==============================] - 0s 10ms/step - loss: 7.8551e-04 - binary_accuracy: 0.9991 - val_loss: 1.4005 - val_binary_accuracy: 0.8669\n",
      "Epoch 55/100\n",
      "30/30 [==============================] - 0s 10ms/step - loss: 7.6635e-04 - binary_accuracy: 0.9991 - val_loss: 1.4429 - val_binary_accuracy: 0.8659\n",
      "Epoch 56/100\n",
      "30/30 [==============================] - 0s 10ms/step - loss: 8.1598e-04 - binary_accuracy: 0.9992 - val_loss: 2.0762 - val_binary_accuracy: 0.8359\n",
      "Epoch 57/100\n",
      "30/30 [==============================] - 0s 10ms/step - loss: 0.0069 - binary_accuracy: 0.9969 - val_loss: 1.5208 - val_binary_accuracy: 0.8626\n",
      "Epoch 58/100\n",
      "30/30 [==============================] - 0s 10ms/step - loss: 5.8966e-04 - binary_accuracy: 0.9994 - val_loss: 1.4959 - val_binary_accuracy: 0.8646\n",
      "Epoch 59/100\n",
      "30/30 [==============================] - 0s 10ms/step - loss: 5.3697e-04 - binary_accuracy: 0.9994 - val_loss: 1.5057 - val_binary_accuracy: 0.8648\n",
      "Epoch 60/100\n",
      "30/30 [==============================] - 0s 10ms/step - loss: 4.6170e-04 - binary_accuracy: 0.9995 - val_loss: 1.5229 - val_binary_accuracy: 0.8655\n",
      "Epoch 61/100\n",
      "30/30 [==============================] - 0s 10ms/step - loss: 4.3664e-04 - binary_accuracy: 0.9995 - val_loss: 1.5599 - val_binary_accuracy: 0.8653\n",
      "Epoch 62/100\n",
      "30/30 [==============================] - 0s 10ms/step - loss: 4.2334e-04 - binary_accuracy: 0.9995 - val_loss: 1.6031 - val_binary_accuracy: 0.8652\n",
      "Epoch 63/100\n",
      "30/30 [==============================] - 0s 10ms/step - loss: 4.1504e-04 - binary_accuracy: 0.9995 - val_loss: 1.6347 - val_binary_accuracy: 0.8646\n",
      "Epoch 64/100\n",
      "30/30 [==============================] - 0s 10ms/step - loss: 4.0760e-04 - binary_accuracy: 0.9995 - val_loss: 1.6520 - val_binary_accuracy: 0.8648\n",
      "Epoch 65/100\n",
      "30/30 [==============================] - 0s 10ms/step - loss: 4.0125e-04 - binary_accuracy: 0.9995 - val_loss: 1.6819 - val_binary_accuracy: 0.8648\n",
      "Epoch 66/100\n",
      "30/30 [==============================] - 0s 10ms/step - loss: 3.9557e-04 - binary_accuracy: 0.9995 - val_loss: 1.6982 - val_binary_accuracy: 0.8647\n",
      "Epoch 67/100\n",
      "30/30 [==============================] - 0s 10ms/step - loss: 3.9191e-04 - binary_accuracy: 0.9995 - val_loss: 1.7075 - val_binary_accuracy: 0.8652\n",
      "Epoch 68/100\n",
      "30/30 [==============================] - 0s 10ms/step - loss: 3.7941e-04 - binary_accuracy: 0.9996 - val_loss: 1.7787 - val_binary_accuracy: 0.8614\n",
      "Epoch 69/100\n",
      "30/30 [==============================] - 0s 10ms/step - loss: 0.0066 - binary_accuracy: 0.9977 - val_loss: 1.7088 - val_binary_accuracy: 0.8647\n",
      "Epoch 70/100\n",
      "30/30 [==============================] - 0s 10ms/step - loss: 2.6979e-04 - binary_accuracy: 0.9997 - val_loss: 1.7172 - val_binary_accuracy: 0.8639\n",
      "Epoch 71/100\n",
      "30/30 [==============================] - 0s 10ms/step - loss: 2.6064e-04 - binary_accuracy: 0.9999 - val_loss: 1.7219 - val_binary_accuracy: 0.8650\n",
      "Epoch 72/100\n",
      "30/30 [==============================] - 0s 10ms/step - loss: 2.5184e-04 - binary_accuracy: 1.0000 - val_loss: 1.7481 - val_binary_accuracy: 0.8640\n",
      "Epoch 73/100\n",
      "30/30 [==============================] - 0s 10ms/step - loss: 2.4620e-04 - binary_accuracy: 1.0000 - val_loss: 1.7693 - val_binary_accuracy: 0.8643\n",
      "Epoch 74/100\n",
      "30/30 [==============================] - 0s 10ms/step - loss: 2.0488e-04 - binary_accuracy: 0.9999 - val_loss: 1.8047 - val_binary_accuracy: 0.8627\n",
      "Epoch 75/100\n",
      "30/30 [==============================] - 0s 10ms/step - loss: 1.8507e-04 - binary_accuracy: 1.0000 - val_loss: 1.8053 - val_binary_accuracy: 0.8643\n",
      "Epoch 76/100\n",
      "30/30 [==============================] - 0s 10ms/step - loss: 0.0078 - binary_accuracy: 0.9978 - val_loss: 1.8254 - val_binary_accuracy: 0.8627\n",
      "Epoch 77/100\n",
      "30/30 [==============================] - 0s 10ms/step - loss: 1.0858e-04 - binary_accuracy: 1.0000 - val_loss: 1.8096 - val_binary_accuracy: 0.8645\n",
      "Epoch 78/100\n",
      "30/30 [==============================] - 0s 10ms/step - loss: 9.6034e-05 - binary_accuracy: 1.0000 - val_loss: 1.8151 - val_binary_accuracy: 0.8641\n",
      "Epoch 79/100\n",
      "30/30 [==============================] - 0s 10ms/step - loss: 8.0193e-05 - binary_accuracy: 1.0000 - val_loss: 1.8174 - val_binary_accuracy: 0.8652\n",
      "Epoch 80/100\n",
      "30/30 [==============================] - 0s 10ms/step - loss: 7.1767e-05 - binary_accuracy: 1.0000 - val_loss: 1.8446 - val_binary_accuracy: 0.8650\n",
      "Epoch 81/100\n",
      "30/30 [==============================] - 0s 10ms/step - loss: 0.0021 - binary_accuracy: 0.9992 - val_loss: 1.8400 - val_binary_accuracy: 0.8635\n",
      "Epoch 82/100\n",
      "30/30 [==============================] - 0s 10ms/step - loss: 9.4457e-05 - binary_accuracy: 1.0000 - val_loss: 1.8313 - val_binary_accuracy: 0.8652\n",
      "Epoch 83/100\n",
      "30/30 [==============================] - 0s 10ms/step - loss: 2.4309e-05 - binary_accuracy: 1.0000 - val_loss: 1.8439 - val_binary_accuracy: 0.8650\n",
      "Epoch 84/100\n",
      "30/30 [==============================] - 0s 10ms/step - loss: 2.1382e-05 - binary_accuracy: 1.0000 - val_loss: 1.8557 - val_binary_accuracy: 0.8653\n",
      "Epoch 85/100\n",
      "30/30 [==============================] - 0s 10ms/step - loss: 1.9114e-05 - binary_accuracy: 1.0000 - val_loss: 1.8786 - val_binary_accuracy: 0.8652\n",
      "Epoch 86/100\n",
      "30/30 [==============================] - 0s 10ms/step - loss: 1.6518e-05 - binary_accuracy: 1.0000 - val_loss: 1.9069 - val_binary_accuracy: 0.8648\n",
      "Epoch 87/100\n",
      "30/30 [==============================] - 0s 10ms/step - loss: 1.4438e-05 - binary_accuracy: 1.0000 - val_loss: 1.9163 - val_binary_accuracy: 0.8648\n",
      "Epoch 88/100\n",
      "30/30 [==============================] - 0s 10ms/step - loss: 1.2917e-05 - binary_accuracy: 1.0000 - val_loss: 1.9343 - val_binary_accuracy: 0.8655\n",
      "Epoch 89/100\n",
      "30/30 [==============================] - 0s 10ms/step - loss: 1.1687e-05 - binary_accuracy: 1.0000 - val_loss: 1.9503 - val_binary_accuracy: 0.8647\n",
      "Epoch 90/100\n",
      "30/30 [==============================] - 0s 10ms/step - loss: 1.0758e-05 - binary_accuracy: 1.0000 - val_loss: 1.9580 - val_binary_accuracy: 0.8653\n",
      "Epoch 91/100\n",
      "30/30 [==============================] - 0s 10ms/step - loss: 1.0002e-05 - binary_accuracy: 1.0000 - val_loss: 1.9707 - val_binary_accuracy: 0.8654\n",
      "Epoch 92/100\n",
      "30/30 [==============================] - 0s 10ms/step - loss: 9.1332e-06 - binary_accuracy: 1.0000 - val_loss: 1.9809 - val_binary_accuracy: 0.8655\n",
      "Epoch 93/100\n",
      "30/30 [==============================] - 0s 10ms/step - loss: 8.4358e-06 - binary_accuracy: 1.0000 - val_loss: 1.9906 - val_binary_accuracy: 0.8653\n",
      "Epoch 94/100\n",
      "30/30 [==============================] - 0s 10ms/step - loss: 7.7771e-06 - binary_accuracy: 1.0000 - val_loss: 2.0012 - val_binary_accuracy: 0.8654\n",
      "Epoch 95/100\n",
      "30/30 [==============================] - 0s 10ms/step - loss: 7.2576e-06 - binary_accuracy: 1.0000 - val_loss: 2.0144 - val_binary_accuracy: 0.8650\n",
      "Epoch 96/100\n",
      "30/30 [==============================] - 0s 10ms/step - loss: 6.7972e-06 - binary_accuracy: 1.0000 - val_loss: 2.0219 - val_binary_accuracy: 0.8653\n",
      "Epoch 97/100\n",
      "30/30 [==============================] - 0s 10ms/step - loss: 6.3765e-06 - binary_accuracy: 1.0000 - val_loss: 2.0300 - val_binary_accuracy: 0.8655\n",
      "Epoch 98/100\n",
      "30/30 [==============================] - 0s 10ms/step - loss: 6.0329e-06 - binary_accuracy: 1.0000 - val_loss: 2.0361 - val_binary_accuracy: 0.8656\n",
      "Epoch 99/100\n",
      "30/30 [==============================] - 0s 10ms/step - loss: 5.6936e-06 - binary_accuracy: 1.0000 - val_loss: 2.0450 - val_binary_accuracy: 0.8656\n",
      "Epoch 100/100\n",
      "30/30 [==============================] - 0s 8ms/step - loss: 5.4154e-06 - binary_accuracy: 1.0000 - val_loss: 2.0547 - val_binary_accuracy: 0.8651\n"
     ]
    }
   ],
   "source": [
    "history = model.fit(partial_X_train, partial_y_train, epochs=100, batch_size=500, validation_data=(X_val, y_val))"
   ]
  },
  {
   "cell_type": "code",
   "execution_count": 13,
   "id": "98cdcb66-b6be-41c4-9c30-1b691c6918b0",
   "metadata": {},
   "outputs": [
    {
     "data": {
      "text/plain": [
       "dict_keys(['loss', 'binary_accuracy', 'val_loss', 'val_binary_accuracy'])"
      ]
     },
     "execution_count": 13,
     "metadata": {},
     "output_type": "execute_result"
    }
   ],
   "source": [
    "history_dict = history.history\n",
    "history_dict.keys()"
   ]
  },
  {
   "cell_type": "code",
   "execution_count": 15,
   "id": "a919fe6d-116d-4790-acd2-6be83cfd6443",
   "metadata": {},
   "outputs": [
    {
     "data": {
      "image/png": "[encoded data removed]",
      "text/plain": [
       "<Figure size 640x480 with 1 Axes>"
      ]
     },
     "metadata": {},
     "output_type": "display_data"
    }
   ],
   "source": [
    "import matplotlib.pyplot as plt\n",
    "%matplotlib inline\n",
    "\n",
    "# Plotting losses\n",
    "loss_values = history_dict['loss']\n",
    "val_loss_values = history_dict['val_loss']\n",
    "\n",
    "epochs = range(1, len(loss_values) + 1)\n",
    "\n",
    "plt.plot(epochs, loss_values, 'bo', label=\"Training Loss\")\n",
    "plt.plot(epochs, val_loss_values, 'b', label=\"Validation Loss\")\n",
    "\n",
    "plt.title('Training and Validation Loss')\n",
    "plt.xlabel('Epochs')\n",
    "plt.ylabel('Loss Value')\n",
    "plt.legend()\n",
    "plt.show()"
   ]
  },
  {
   "cell_type": "code",
   "execution_count": 16,
   "id": "4c53b6d5-e614-42de-ac7f-0c678715e9bc",
   "metadata": {},
   "outputs": [
    {
     "data": {
      "image/png": "[encoded data removed]",
      "text/plain": [
       "<Figure size 640x480 with 1 Axes>"
      ]
     },
     "metadata": {},
     "output_type": "display_data"
    }
   ],
   "source": [
    "# Training and Validation Accuracy\n",
    "\n",
    "acc_values = history_dict['binary_accuracy']\n",
    "val_acc_values = history_dict['val_binary_accuracy']\n",
    "\n",
    "epochs = range(1, len(loss_values) + 1)\n",
    "\n",
    "plt.plot(epochs, acc_values, 'ro', label=\"Training Accuracy\")\n",
    "plt.plot(epochs, val_acc_values, 'r', label=\"Validation Accuracy\")\n",
    "\n",
    "plt.title('Training and Validation Accuraccy')\n",
    "plt.xlabel('Epochs')\n",
    "plt.ylabel('Accuracy')\n",
    "plt.legend()\n",
    "\n",
    "plt.show()"
   ]
  },
  {
   "cell_type": "code",
   "execution_count": 17,
   "id": "0df6f349-72b3-4f68-a659-cb12e8cc8943",
   "metadata": {},
   "outputs": [
    {
     "name": "stdout",
     "output_type": "stream",
     "text": [
      "782/782 [==============================] - 0s 519us/step\n"
     ]
    },
    {
     "data": {
      "text/plain": [
       "array([[0.00000008],\n",
       "       [1.        ],\n",
       "       [0.00043445],\n",
       "       ...,\n",
       "       [0.        ],\n",
       "       [0.00000002],\n",
       "       [0.99992603]], dtype=float32)"
      ]
     },
     "execution_count": 17,
     "metadata": {},
     "output_type": "execute_result"
    }
   ],
   "source": [
    "# Making Predictions for testing data\n",
    "np.set_printoptions(suppress=True)\n",
    "result = model.predict(X_test)\n",
    "result"
   ]
  },
  {
   "cell_type": "code",
   "execution_count": 18,
   "id": "b8c38294-2b50-43be-bcf7-b5a11028f853",
   "metadata": {},
   "outputs": [],
   "source": [
    "y_pred = np.zeros(len(result))\n",
    "for i, score in enumerate(result):\n",
    "    y_pred[i] = 1 if score > 0.5 else 0"
   ]
  },
  {
   "cell_type": "code",
   "execution_count": 19,
   "id": "7d505634-f0aa-49b1-b9dc-948524f4b770",
   "metadata": {},
   "outputs": [],
   "source": [
    "from sklearn.metrics import mean_absolute_error\n",
    "mae = mean_absolute_error(y_pred, y_test)"
   ]
  },
  {
   "cell_type": "code",
   "execution_count": 20,
   "id": "02faec00-4f0a-4d6f-adab-57639e765719",
   "metadata": {},
   "outputs": [
    {
     "data": {
      "text/plain": [
       "0.1478"
      ]
     },
     "execution_count": 20,
     "metadata": {},
     "output_type": "execute_result"
    }
   ],
   "source": [
    "mae"
   ]
  },
  {
   "cell_type": "code",
   "execution_count": null,
   "id": "ec138961-f979-49c9-ba64-d23954ed63ea",
   "metadata": {},
   "outputs": [],
   "source": []
  }
 ],
 "metadata": {
  "kernelspec": {
   "display_name": "Python 3 (ipykernel)",
   "language": "python",
   "name": "python3"
  },
  "language_info": {
   "codemirror_mode": {
    "name": "ipython",
    "version": 3
   },
   "file_extension": ".py",
   "mimetype": "text/x-python",
   "name": "python",
   "nbconvert_exporter": "python",
   "pygments_lexer": "ipython3",
   "version": "3.12.5"
  }
 },
 "nbformat": 4,
 "nbformat_minor": 5
}
